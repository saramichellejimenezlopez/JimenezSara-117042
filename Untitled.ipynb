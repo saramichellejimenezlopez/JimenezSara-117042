{
 "cells": [
  {
   "cell_type": "code",
   "execution_count": 1,
   "metadata": {},
   "outputs": [
    {
     "name": "stdout",
     "output_type": "stream",
     "text": [
      "Escriba un múmero: -45\n",
      "El valor absoluto de el número ingresado es:  45.0\n"
     ]
    }
   ],
   "source": [
    "#Pediremos al usuario que ingrese un número, el comando <float> nos dará la\n",
    "# la posibilidad de que sea un número entero o decimal el que se ingrese y sea \n",
    "# leido y operado con normalidad  \n",
    "m = float(input('Escriba un múmero: ' ))\n",
    "\n",
    "#Especificaremos el proceso a seguir dependiendo si el número ingresado es \n",
    "# negativo o positivo\n",
    "if m < 0 :\n",
    "    print('El valor absoluto de el número ingresado es: ', m*(-1))\n",
    "else:\n",
    "    (print ('El valor absoluto del número ingresado es: ', m))"
   ]
  },
  {
   "cell_type": "code",
   "execution_count": null,
   "metadata": {},
   "outputs": [],
   "source": []
  }
 ],
 "metadata": {
  "kernelspec": {
   "display_name": "Python 3",
   "language": "python",
   "name": "python3"
  },
  "language_info": {
   "codemirror_mode": {
    "name": "ipython",
    "version": 3
   },
   "file_extension": ".py",
   "mimetype": "text/x-python",
   "name": "python",
   "nbconvert_exporter": "python",
   "pygments_lexer": "ipython3",
   "version": "3.7.3"
  }
 },
 "nbformat": 4,
 "nbformat_minor": 2
}
